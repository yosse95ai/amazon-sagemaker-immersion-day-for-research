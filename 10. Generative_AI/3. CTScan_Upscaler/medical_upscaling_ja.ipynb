{
 "cells": [
  {
   "cell_type": "markdown",
   "id": "16c61f54",
   "metadata": {},
   "source": [
    "# 医用画像の超解像"
   ]
  },
  {
   "cell_type": "markdown",
   "id": "bdc23bae",
   "metadata": {},
   "source": [
    "---\n",
    "\n",
    "\n",
    "超解像は、低解像度の画像をより鮮明にするために、画像の質を向上させることを目的とした技術です。\n",
    "\n",
    "このプロセスは、画像処理の分野で広く研究されています。しかし、研究者がしばしば遭遇するいくつかの問題があります。 一つは、補間を利用した手法に関する問題です。補間ベースの技術は、利用可能な情報を使い、知識や経験に基づいた推測を行うことで、低解像度の画像に欠けている詳細を推定しようとします。残念ながら、このような手法では、強調された画像にシャープさや細かいディテールがなく、ぼやけた出力になってしまうことがしばしばあります。\n",
    "\n",
    "Stable Diffusion は、AI アルゴリズムを使用して画像のスケールを拡大するため、画像内のギャップを手動で埋めるような作業が不要になります。数百万枚の画像でトレーニングされ、高解像度の画像を正確に予測できるため、従来の画像アップスケーラーと比較してディテールが大幅に向上します。さらに、最近傍などの非深層学習技術とは異なり、Stable Diffusionは画像のコンテキストを考慮し、スケールの拡大プロセスを導くために、テキストのプロンプトを使用します。\n",
    "\n",
    "このノートブックでは、デモンストレーションとして、CT スキャンで取得した画像を強化する方法を紹介します。\n",
    "\n",
    "こちらは、中足骨を骨折した、犬の足の CT スキャンです。\n",
    "\n",
    "<img src=\"ctscan_dog.png\" alt= \"CT Scan Dog Paws\" align=\"center\">\n",
    "\n",
    "SageMaker Python SDK を使用して、最先端の事前学習された Stable Diffusion モデルを用いてアップスケーリングを行います。アップスケーリングは、低解像度の画像と画像を説明するテキストプロンプトが与えられた場合に、高解像度の画像を生成するタスクです。低解像度でぼやけており、ピクセル化してしまった画像を、より滑らで、鮮明で詳細な高解像度画像に変換することができます。アップスケーリングと呼ぶこのプロセスは、実際の画像でも [text-to-image Stable Diffusion モデル](https://aws.amazon.com/blogs/machine-learning/generate-images-from-text-with-the-stable-diffusion-model-on-amazon-sagemaker-jumpstart/) によって生成された画像のどちらにも適用できます。\n",
    "\n",
    "医療分野では、診断の改善と、放射線学で普及している CAD（Computer Aided Detection）システムによる検出をより強化する目的で、画質を向上させようとする研究が数多く行われています。さらに、アップスケーリングは、高解像度な画面に表示される低解像度画像の視覚的な品質を向上させることができます。\n",
    "\n",
    "---"
   ]
  },
  {
   "cell_type": "markdown",
   "id": "5db28351",
   "metadata": {},
   "source": [
    "1. [セットアップ](#1.-セットアップ)\n",
    "2. [Artifacts の取得とエンドポイントのデプロイ](#2.-Artifactsの取得とエンドポイントのデプロイ)\n",
    "3. [エンドポイントへのクエリとレスポンスのパース](#3.-エンドポイントへのクエリとレスポンスのパース)\n",
    "4. [エンドポイントのクリーンアップ](#4.-エンドポイントのクリーンアップ)"
   ]
  },
  {
   "cell_type": "markdown",
   "id": "ce462973",
   "metadata": {},
   "source": [
    "Note: このノートブックは Amazon SageMaker Studio の ml.t3.medium インスタンスとPython 3 (Data Science) カーネルを使用した環境、及び Amazon SageMaker Notebook インスタンスの　conda_python3 カーネルの環境でテストしました。\n",
    "\n",
    "Note: ノートブックの実行が終わったら、全てのリソースを必ず削除して、課金が停止するようにしてください。[エンドポイントのクリーンアップ](#4.-エンドポイントのクリーンアップ) のコードは、作成されたモデルとエンドポイントを削除します。"
   ]
  },
  {
   "cell_type": "markdown",
   "id": "9ea47727",
   "metadata": {},
   "source": [
    "### 1. セットアップ"
   ]
  },
  {
   "cell_type": "markdown",
   "id": "35b91e81",
   "metadata": {},
   "source": [
    "---\n",
    "ノートブックを実行する前に、セットアップのためにいくつかの初期ステップがあります。このノートブックでは最新版の sagemaker および ipywidegets が必要です。\n",
    "\n",
    "---"
   ]
  },
  {
   "cell_type": "code",
   "execution_count": 2,
   "id": "25293522",
   "metadata": {
    "tags": []
   },
   "outputs": [],
   "source": [
    "!pip install sagemaker ipywidgets --upgrade --quiet"
   ]
  },
  {
   "cell_type": "markdown",
   "id": "48370155",
   "metadata": {},
   "source": [
    "#### 権限と環境変数\n",
    "\n",
    "---\n",
    "Amazon SageMaker でモデルをホストするために、AWS サービスを利用するための権限をセットアップする必要があります。ここでは、SageMaker にアクセスできる AWS アカウントのロールとして、ノートブックに関連づけられた実行ロールを利用します。\n",
    "\n",
    "---"
   ]
  },
  {
   "cell_type": "code",
   "execution_count": 3,
   "id": "90518e45",
   "metadata": {
    "tags": []
   },
   "outputs": [],
   "source": [
    "import boto3\n",
    "import matplotlib.pyplot as plt\n",
    "import numpy as np\n",
    "import json"
   ]
  },
  {
   "cell_type": "markdown",
   "id": "8f3ab601",
   "metadata": {
    "tags": []
   },
   "source": [
    "### 2. Artifactsの取得とエンドポイントのデプロイ\n",
    "\n",
    "***\n",
    "Amazon SageMaker では、Hugging Face モデルを利用した 学習、Fine-tuning、推論が可能です。学習と推論の両方に Hugging Face を利用できます。\n",
    "この機能は、Hugging Face AWS Deep Learning コンテナ を通して利用します。これらのコンテナには、Hugging Face Transformers、Tokenizers、Datasets ライブラリが含まれており、学習や推論ジョブのために使用できます。利用可能な Deep Learning コンテナイメージのリストについては、[利用可能な Deep Learning コンテナイメージ](https://github.com/aws/deep-learning-containers/blob/master/available_images.md)をご覧ください。こららのコンテナイメージはメンテナンスされており、セキュリティパッチが定期的に更新されます。\n",
    "\n",
    "Hugging Face Deep Learning コンテナを SageMaker Python SDKで学習のために利用するには、SageMaker の [Hugging Face Estimator](https://sagemaker.readthedocs.io/en/stable/frameworks/huggingface/sagemaker.huggingface.html) をご覧ください。Hugging Face Estimator を利用することで、Hugging Face のモデルを、他の SageMaker Estimator と同様に使用できますが、\n",
    "SageMaker Python SDK は 1 つの選択肢であり、AWS CLI と AWS SDK for Python (boto3) を使用して、Hugging Face Deep Learning コンテナの使用を管理することもできます。\n",
    "\n",
    "このノートブックでは、Stable Diffusion x4 upscaler を使用します。モデルカードは [こちら](https://huggingface.co/stabilityai/stable-diffusion-x4-upscaler) から入手できます。\n",
    "\n",
    "SageMaker を活用すると、新しいデータセットで最初にFine-tuningを実施しなくとも、事前学習されたモデルで推論を実行できます。まずは、事前学習済みのモデルとして、\n",
    "`deploy_image_uri`, `deploy_source_uri`, そして `model_uri` を取得します。このモデルをホストするために、[`sagemaker.model.Model`](https://sagemaker.readthedocs.io/en/stable/api/inference/model.html) を作成し、デプロイします。この処理には、数分間かかります。\n",
    "\n",
    "***"
   ]
  },
  {
   "cell_type": "code",
   "execution_count": 4,
   "id": "a8a79ec9",
   "metadata": {
    "tags": []
   },
   "outputs": [
    {
     "name": "stderr",
     "output_type": "stream",
     "text": [
      "/opt/conda/lib/python3.11/site-packages/pydantic/_internal/_fields.py:192: UserWarning: Field name \"json\" in \"MonitoringDatasetFormat\" shadows an attribute in parent \"Base\"\n",
      "  warnings.warn(\n"
     ]
    },
    {
     "name": "stdout",
     "output_type": "stream",
     "text": [
      "sagemaker.config INFO - Not applying SDK defaults from location: /etc/xdg/sagemaker/config.yaml\n",
      "sagemaker.config INFO - Not applying SDK defaults from location: /home/sagemaker-user/.config/sagemaker/config.yaml\n"
     ]
    },
    {
     "name": "stderr",
     "output_type": "stream",
     "text": [
      "Using model 'model-upscaling-stabilityai-stable-diffusion-x4-upscaler-fp16' with version '2.0.5'. You can upgrade to version '2.0.7' to get the latest model specifications. Note that models may have different input/output signatures after a major version upgrade.\n"
     ]
    },
    {
     "data": {
      "text/html": [
       "<pre style=\"white-space:pre;overflow-x:auto;line-height:normal;font-family:Menlo,'DejaVu Sans Mono',consolas,'Courier New',monospace\"><span style=\"color: #7fbfbf; text-decoration-color: #7fbfbf\">[03/06/25 08:11:03] </span><span style=\"color: #0069ff; text-decoration-color: #0069ff; font-weight: bold\">INFO    </span> Using model                                                               <a href=\"file:///opt/conda/lib/python3.11/site-packages/sagemaker/jumpstart/utils.py\" target=\"_blank\"><span style=\"color: #7f7f7f; text-decoration-color: #7f7f7f\">utils.py</span></a><span style=\"color: #7f7f7f; text-decoration-color: #7f7f7f\">:</span><a href=\"file:///opt/conda/lib/python3.11/site-packages/sagemaker/jumpstart/utils.py#613\" target=\"_blank\"><span style=\"color: #7f7f7f; text-decoration-color: #7f7f7f\">613</span></a>\n",
       "<span style=\"color: #7fbfbf; text-decoration-color: #7fbfbf\">                    </span>         <span style=\"color: #008700; text-decoration-color: #008700\">'model-upscaling-stabilityai-stable-diffusion-x4-upscaler-fp16'</span> with      <span style=\"color: #7f7f7f; text-decoration-color: #7f7f7f\">            </span>\n",
       "<span style=\"color: #7fbfbf; text-decoration-color: #7fbfbf\">                    </span>         version <span style=\"color: #008700; text-decoration-color: #008700\">'2.0.5'</span>. You can upgrade to version <span style=\"color: #008700; text-decoration-color: #008700\">'2.0.7'</span> to get the latest     <span style=\"color: #7f7f7f; text-decoration-color: #7f7f7f\">            </span>\n",
       "<span style=\"color: #7fbfbf; text-decoration-color: #7fbfbf\">                    </span>         model specifications. Note that models may have different input/output    <span style=\"color: #7f7f7f; text-decoration-color: #7f7f7f\">            </span>\n",
       "<span style=\"color: #7fbfbf; text-decoration-color: #7fbfbf\">                    </span>         signatures after a major version upgrade.                                 <span style=\"color: #7f7f7f; text-decoration-color: #7f7f7f\">            </span>\n",
       "</pre>\n"
      ],
      "text/plain": [
       "\u001b[2;36m[03/06/25 08:11:03]\u001b[0m\u001b[2;36m \u001b[0m\u001b[1;38;2;0;105;255mINFO    \u001b[0m Using model                                                               \u001b]8;id=132066;file:///opt/conda/lib/python3.11/site-packages/sagemaker/jumpstart/utils.py\u001b\\\u001b[2mutils.py\u001b[0m\u001b]8;;\u001b\\\u001b[2m:\u001b[0m\u001b]8;id=814720;file:///opt/conda/lib/python3.11/site-packages/sagemaker/jumpstart/utils.py#613\u001b\\\u001b[2m613\u001b[0m\u001b]8;;\u001b\\\n",
       "\u001b[2;36m                    \u001b[0m         \u001b[38;2;0;135;0m'model-upscaling-stabilityai-stable-diffusion-x4-upscaler-fp16'\u001b[0m with      \u001b[2m            \u001b[0m\n",
       "\u001b[2;36m                    \u001b[0m         version \u001b[38;2;0;135;0m'2.0.5'\u001b[0m. You can upgrade to version \u001b[38;2;0;135;0m'2.0.7'\u001b[0m to get the latest     \u001b[2m            \u001b[0m\n",
       "\u001b[2;36m                    \u001b[0m         model specifications. Note that models may have different input/output    \u001b[2m            \u001b[0m\n",
       "\u001b[2;36m                    \u001b[0m         signatures after a major version upgrade.                                 \u001b[2m            \u001b[0m\n"
      ]
     },
     "metadata": {},
     "output_type": "display_data"
    },
    {
     "data": {
      "text/html": [
       "<pre style=\"white-space:pre;overflow-x:auto;line-height:normal;font-family:Menlo,'DejaVu Sans Mono',consolas,'Courier New',monospace\"><span style=\"color: #7fbfbf; text-decoration-color: #7fbfbf\">                    </span><span style=\"color: #0069ff; text-decoration-color: #0069ff; font-weight: bold\">INFO    </span> Creating model with name:                                              <a href=\"file:///opt/conda/lib/python3.11/site-packages/sagemaker/session.py\" target=\"_blank\"><span style=\"color: #7f7f7f; text-decoration-color: #7f7f7f\">session.py</span></a><span style=\"color: #7f7f7f; text-decoration-color: #7f7f7f\">:</span><a href=\"file:///opt/conda/lib/python3.11/site-packages/sagemaker/session.py#4094\" target=\"_blank\"><span style=\"color: #7f7f7f; text-decoration-color: #7f7f7f\">4094</span></a>\n",
       "<span style=\"color: #7fbfbf; text-decoration-color: #7fbfbf\">                    </span>         stable-diffusion-x4-upscaler-fp16-<span style=\"color: #008080; text-decoration-color: #008080; font-weight: bold\">2025</span>-03-06-08-11-03-659              <span style=\"color: #7f7f7f; text-decoration-color: #7f7f7f\">               </span>\n",
       "</pre>\n"
      ],
      "text/plain": [
       "\u001b[2;36m                   \u001b[0m\u001b[2;36m \u001b[0m\u001b[1;38;2;0;105;255mINFO    \u001b[0m Creating model with name:                                              \u001b]8;id=115444;file:///opt/conda/lib/python3.11/site-packages/sagemaker/session.py\u001b\\\u001b[2msession.py\u001b[0m\u001b]8;;\u001b\\\u001b[2m:\u001b[0m\u001b]8;id=922467;file:///opt/conda/lib/python3.11/site-packages/sagemaker/session.py#4094\u001b\\\u001b[2m4094\u001b[0m\u001b]8;;\u001b\\\n",
       "\u001b[2;36m                    \u001b[0m         stable-diffusion-x4-upscaler-fp16-\u001b[1;36m2025\u001b[0m-03-06-08-11-03-659              \u001b[2m               \u001b[0m\n"
      ]
     },
     "metadata": {},
     "output_type": "display_data"
    },
    {
     "data": {
      "text/html": [
       "<pre style=\"white-space:pre;overflow-x:auto;line-height:normal;font-family:Menlo,'DejaVu Sans Mono',consolas,'Courier New',monospace\"><span style=\"color: #7fbfbf; text-decoration-color: #7fbfbf\">[03/06/25 08:11:04] </span><span style=\"color: #0069ff; text-decoration-color: #0069ff; font-weight: bold\">INFO    </span> Creating endpoint-config with name                                     <a href=\"file:///opt/conda/lib/python3.11/site-packages/sagemaker/session.py\" target=\"_blank\"><span style=\"color: #7f7f7f; text-decoration-color: #7f7f7f\">session.py</span></a><span style=\"color: #7f7f7f; text-decoration-color: #7f7f7f\">:</span><a href=\"file:///opt/conda/lib/python3.11/site-packages/sagemaker/session.py#5937\" target=\"_blank\"><span style=\"color: #7f7f7f; text-decoration-color: #7f7f7f\">5937</span></a>\n",
       "<span style=\"color: #7fbfbf; text-decoration-color: #7fbfbf\">                    </span>         medical-example-model-upscaling-stabili-<span style=\"color: #008080; text-decoration-color: #008080; font-weight: bold\">2025</span>-03-06-08-11-03-016        <span style=\"color: #7f7f7f; text-decoration-color: #7f7f7f\">               </span>\n",
       "</pre>\n"
      ],
      "text/plain": [
       "\u001b[2;36m[03/06/25 08:11:04]\u001b[0m\u001b[2;36m \u001b[0m\u001b[1;38;2;0;105;255mINFO    \u001b[0m Creating endpoint-config with name                                     \u001b]8;id=854076;file:///opt/conda/lib/python3.11/site-packages/sagemaker/session.py\u001b\\\u001b[2msession.py\u001b[0m\u001b]8;;\u001b\\\u001b[2m:\u001b[0m\u001b]8;id=922832;file:///opt/conda/lib/python3.11/site-packages/sagemaker/session.py#5937\u001b\\\u001b[2m5937\u001b[0m\u001b]8;;\u001b\\\n",
       "\u001b[2;36m                    \u001b[0m         medical-example-model-upscaling-stabili-\u001b[1;36m2025\u001b[0m-03-06-08-11-03-016        \u001b[2m               \u001b[0m\n"
      ]
     },
     "metadata": {},
     "output_type": "display_data"
    },
    {
     "data": {
      "text/html": [
       "<pre style=\"white-space:pre;overflow-x:auto;line-height:normal;font-family:Menlo,'DejaVu Sans Mono',consolas,'Courier New',monospace\"><span style=\"color: #7fbfbf; text-decoration-color: #7fbfbf\">                    </span><span style=\"color: #0069ff; text-decoration-color: #0069ff; font-weight: bold\">INFO    </span> Creating endpoint with name                                            <a href=\"file:///opt/conda/lib/python3.11/site-packages/sagemaker/session.py\" target=\"_blank\"><span style=\"color: #7f7f7f; text-decoration-color: #7f7f7f\">session.py</span></a><span style=\"color: #7f7f7f; text-decoration-color: #7f7f7f\">:</span><a href=\"file:///opt/conda/lib/python3.11/site-packages/sagemaker/session.py#4759\" target=\"_blank\"><span style=\"color: #7f7f7f; text-decoration-color: #7f7f7f\">4759</span></a>\n",
       "<span style=\"color: #7fbfbf; text-decoration-color: #7fbfbf\">                    </span>         medical-example-model-upscaling-stabili-<span style=\"color: #008080; text-decoration-color: #008080; font-weight: bold\">2025</span>-03-06-08-11-03-016        <span style=\"color: #7f7f7f; text-decoration-color: #7f7f7f\">               </span>\n",
       "</pre>\n"
      ],
      "text/plain": [
       "\u001b[2;36m                   \u001b[0m\u001b[2;36m \u001b[0m\u001b[1;38;2;0;105;255mINFO    \u001b[0m Creating endpoint with name                                            \u001b]8;id=67504;file:///opt/conda/lib/python3.11/site-packages/sagemaker/session.py\u001b\\\u001b[2msession.py\u001b[0m\u001b]8;;\u001b\\\u001b[2m:\u001b[0m\u001b]8;id=171719;file:///opt/conda/lib/python3.11/site-packages/sagemaker/session.py#4759\u001b\\\u001b[2m4759\u001b[0m\u001b]8;;\u001b\\\n",
       "\u001b[2;36m                    \u001b[0m         medical-example-model-upscaling-stabili-\u001b[1;36m2025\u001b[0m-03-06-08-11-03-016        \u001b[2m               \u001b[0m\n"
      ]
     },
     "metadata": {},
     "output_type": "display_data"
    },
    {
     "name": "stdout",
     "output_type": "stream",
     "text": [
      "-------------!"
     ]
    }
   ],
   "source": [
    "from sagemaker.jumpstart.model import JumpStartModel\n",
    "from sagemaker.predictor import Predictor\n",
    "from sagemaker.utils import name_from_base\n",
    "\n",
    "model_id, model_version = \"model-upscaling-stabilityai-stable-diffusion-x4-upscaler-fp16\", \"2.0.5\"\n",
    "\n",
    "endpoint_name = name_from_base(f\"medical-example-{model_id}\")\n",
    "\n",
    "# GPUメモリの多いインスタンスほど、より大きな画像の生成が可能です。\n",
    "# 非常に大きな画像を生成したい場合、たとえば ml.g5.2xlarge などのインスタンスタイプを選択してください。\n",
    "inference_instance_type = \"ml.p3.2xlarge\"\n",
    "\n",
    "# SageMakerのモデルを作成します。\n",
    "pretrained_model = JumpStartModel(\n",
    "    model_id=model_id,\n",
    "    model_version=model_version,\n",
    "    instance_type=inference_instance_type,\n",
    ")\n",
    "\n",
    "# モデルをデプロイします。\n",
    "# SageMaker APIを通して推論を実行するためには、Modelクラスを通してモデルをデプロイする場合、Predictorクラスを使う必要があります。\n",
    "model_predictor = pretrained_model.deploy(\n",
    "    initial_instance_count=1,\n",
    "    instance_type=inference_instance_type,\n",
    "    endpoint_name=endpoint_name,\n",
    ")"
   ]
  },
  {
   "cell_type": "markdown",
   "id": "665dfbe4-2857-484e-8179-3ad11307822c",
   "metadata": {},
   "source": [
    "### 3. エンドポイントへのクエリとレスポンスのパース\n",
    "\n",
    "---\n",
    "エンドポイントへの入力は、`utf-8` 形式でエンコードされた、プロンプト、低解像度の画像、`json` 形式の画像生成のパラメータです。エンドポイントからの出力は、生成された画像と入力されたプロンプトであり、`json` 形式です。\n",
    "\n",
    "---"
   ]
  },
  {
   "cell_type": "markdown",
   "id": "7cd63c69-1a6a-4f33-a90e-f73a172b1685",
   "metadata": {
    "tags": []
   },
   "source": [
    "#### 3.1 低解像度画像のサンプルのダウンロード\n",
    "---\n",
    "これから修正したい、低解像度の画像を見てみましょう。\n",
    "\n",
    "---"
   ]
  },
  {
   "cell_type": "code",
   "execution_count": 5,
   "id": "85c19342-3a7a-4c01-844c-0937828bba7c",
   "metadata": {
    "tags": []
   },
   "outputs": [
    {
     "data": {
      "image/jpeg": "[encoded data removed]",
      "text/plain": [
       "<IPython.core.display.Image object>"
      ]
     },
     "execution_count": 5,
     "metadata": {
      "image/jpeg": {
       "height": 632,
       "width": 632
      }
     },
     "output_type": "execute_result"
    }
   ],
   "source": [
    "from IPython.display import Image\n",
    "\n",
    "# 変更することができます\n",
    "low_res_img_file_name = \"ctscan.jpg\"\n",
    "\n",
    "# 元の画像を表示します。\n",
    "Image(filename=low_res_img_file_name, width=632, height=632)"
   ]
  },
  {
   "cell_type": "markdown",
   "id": "7fb5f775-c73c-4a19-a581-9f9db30238d6",
   "metadata": {},
   "source": [
    "次に、エンドポイントへのクエリと、レスポンスのパース、生成された画像を表示するための helper関数を記述します。"
   ]
  },
  {
   "cell_type": "code",
   "execution_count": 6,
   "id": "84fb30d0",
   "metadata": {
    "tags": []
   },
   "outputs": [],
   "source": [
    "import matplotlib.pyplot as plt\n",
    "import numpy as np\n",
    "\n",
    "\n",
    "def query(model_predictor, payload, content_type, accept):\n",
    "    \"\"\"Query the model predictor.\"\"\"\n",
    "\n",
    "    query_response = model_predictor.predict(\n",
    "        payload,\n",
    "    )\n",
    "    return query_response\n",
    "\n",
    "def query_endpoint(payload):\n",
    "    \"\"\"query the endpoint with the json payload encoded in utf-8 format.\"\"\"\n",
    "    \n",
    "    client = boto3.client('runtime.sagemaker')\n",
    "    response = client.invoke_endpoint(EndpointName=endpoint_name, ContentType='application/json;jpeg', Accept = 'application/json;jpeg', Body=payload)\n",
    "    return response\n",
    "\n",
    "def parse_response(query_response):\n",
    "    \"\"\"Parse response and return the generated images and prompt.\"\"\"\n",
    "\n",
    "    response_dict = json.loads(query_response['Body'].read())\n",
    "\n",
    "    return response_dict[\"generated_images\"], response_dict[\"prompt\"]\n",
    "\n",
    "\n",
    "def display_img_and_prompt(img, prmpt):\n",
    "    \"\"\"Display the generated image.\"\"\"\n",
    "    plt.figure(figsize=(12, 12))\n",
    "    plt.imshow(np.array(img))\n",
    "    plt.axis(\"off\")\n",
    "    plt.title(prmpt)\n",
    "    plt.show()"
   ]
  },
  {
   "cell_type": "markdown",
   "id": "aea0434b",
   "metadata": {},
   "source": [
    "---\n",
    "以下に、低解像度の画像とプロンプトの例を示します。任意のテキストと画像を入力でき、モデルはアップスケールした画像を生成します。元の画像の 4 倍のサイズの画像を生成することに注意してください。非常に大きな画像を入力すると、CUDAメモリの問題が発生する可能性があります。この問題に対処するには、解像度の低い画像を入力するか、ml.g5.2xlarge のような CUDA メモリが大きいインスタンスタイプを選んでください。\n",
    "\n",
    "---"
   ]
  },
  {
   "cell_type": "markdown",
   "id": "91227eb6-ca25-49a4-8562-6e2f46180403",
   "metadata": {},
   "source": [
    "#### サポートされるパラメータ\n",
    "\n",
    "***\n",
    "このモデルは、推論を実行する際に以下に示す多くのパラメータをサポートします。\n",
    "\n",
    "* **prompt**: 画像生成をガイドするプロンプトです。文字列または文字列のリストを指定する必要があります。\n",
    "* **num_inference_steps**: 画像生成時のノイズ除去ステップ数です。ステップ数が多いほど高画質になります。正の整数である必要があります。\n",
    "* **guidance_scale**: 大きい値を指定すると画質が犠牲にする代わりに、プロンプトに近い画像を生成します。1 以下の guidance_scale は無視されます。\n",
    "* **negative_prompt**: このプロンプトに反する様に画像生成をガイドします。文字列または文字列のリストである必要があり、guidance_scaleと共に使用されます。guidance_scaleが無効の場合、negative_promptも無効になります。さらに、promptが文字列のリストである場合、nagetive_promptも文字列のリストである必要があります。 \n",
    "* **seed**: 再現性のために、ランダム化された状態を固定します。指定する場合、整数である必要があります。\n",
    "* **noise_level**: アップスケールする前に潜在ベクトルにノイズを加えます。指定する場合、整数である必要があります。\n",
    "\n",
    "***"
   ]
  },
  {
   "cell_type": "code",
   "execution_count": 7,
   "id": "4fd0a997-d41d-48af-851c-740d5f66d55f",
   "metadata": {
    "pycharm": {
     "is_executing": true
    },
    "tags": []
   },
   "outputs": [
    {
     "name": "stdout",
     "output_type": "stream",
     "text": [
      "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\n"
     ]
    }
   ],
   "source": [
    "import base64\n",
    "from PIL import Image\n",
    "from io import BytesIO\n",
    "\n",
    "\n",
    "# content_type = 'application/json;jpeg' を指定します。エンドポイントは、\n",
    "# 低解像度の jpeg 画像を base64.b64 形式でエンコードしたバイト列を含む json を payload として受け取ります。\n",
    "# raw画像をエンドポイントに送信するには、content_type = 'application/json' を指定し、\n",
    "# encoded_image に np.array(PIL.Image.open('low_res_image.jpg')).tolist() を設定します。\n",
    "content_type = \"application/json;jpeg\"\n",
    "\n",
    "\n",
    "# 低解像度画像の高さと幅が 2 の累乗となるように、画像を再スケーリングすることをお勧めします。\n",
    "# original_image = Image.open('low_res_image.jpg')\n",
    "# rescaled_image = original_image.rescale((128,128))\n",
    "# rescaled_image.save('rescaled_image.jpg')\n",
    "# のように処理できます。\n",
    "# このチュートリアルで使用するサンプル画像のサイズは 128x128 です。\n",
    "with open(low_res_img_file_name, \"rb\") as f:\n",
    "    low_res_image_bytes = f.read()\n",
    "encoded_image = base64.b64encode(bytearray(low_res_image_bytes)).decode()\n",
    "print(encoded_image)\n",
    "\n",
    "payload = {\n",
    "    \"prompt\": \"xray ct scan\",\n",
    "    \"image\": encoded_image,\n",
    "    \"num_inference_steps\": 500,\n",
    "    \"guidance_scale\": 7.5,\n",
    "}\n",
    "\n",
    "# accept = 'application/json;jpeg'の場合、エンドポイントはjpeg画像をbase64.b64形式でエンコードしたバイト列として返します。\n",
    "# raw 画像を rgb 値で受け取る場合、accept = 'application/json' をセットします。\n",
    "accept = \"application/json;jpeg\""
   ]
  },
  {
   "cell_type": "code",
   "execution_count": 8,
   "id": "b8b3cee2",
   "metadata": {},
   "outputs": [],
   "source": [
    "# raw/rgb 値でペイロードを送受信すると、SageMaker の入力ペイロードとレスポンスのサイズの制限に当たる可能性があることに注意してください。\n",
    "query_response = query_endpoint(json.dumps(payload).encode('utf-8'))\n",
    "generated_images, prompt = parse_response(query_response)"
   ]
  },
  {
   "cell_type": "code",
   "execution_count": 11,
   "id": "93408e6a-9295-4c6a-a759-3e0454983691",
   "metadata": {
    "pycharm": {
     "is_executing": true
    },
    "tags": []
   },
   "outputs": [
    {
     "data": {
      "image/png": "[encoded data removed]",
      "text/plain": [
       "<Figure size 1100x800 with 2 Axes>"
      ]
     },
     "metadata": {},
     "output_type": "display_data"
    }
   ],
   "source": [
    "import matplotlib.pyplot as plt\n",
    "import matplotlib.image as mpimg\n",
    "from matplotlib import rcParams\n",
    "\n",
    "%matplotlib inline\n",
    "\n",
    "# 図形サイズのオプション\n",
    "rcParams['figure.figsize'] = 11 ,8\n",
    "\n",
    "# 上で言及したように accept = 'application/json;jpeg' のため、画像は base64.b64 形式でエンコードされたバイト列の jpeg です。\n",
    "# ここでは、画像をデコードし表示します。\n",
    "for generated_image in generated_images:\n",
    "    generated_image_decoded = BytesIO(base64.b64decode(generated_image.encode()))\n",
    "    generated_image_rgb = Image.open(generated_image_decoded).convert(\"RGB\")\n",
    "\n",
    "    img_enhanced_name = 'upscaled_ctscan.jpg'\n",
    "    generated_image_rgb.save(img_enhanced_name)\n",
    "    # read images\n",
    "    img_original = mpimg.imread(low_res_img_file_name)\n",
    "    img_enhanced = mpimg.imread(img_enhanced_name)\n",
    "\n",
    "    # display images\n",
    "    fig, ax = plt.subplots(1,2)\n",
    "    ax[0].imshow(img_original)\n",
    "    ax[0].title.set_text('Original')\n",
    "    ax[1].imshow(img_enhanced)\n",
    "    ax[1].title.set_text('Improved Resolution')\n",
    "    "
   ]
  },
  {
   "cell_type": "markdown",
   "id": "870d1173",
   "metadata": {},
   "source": [
    "### 4. エンドポイントのクリーンアップ\n",
    "\n",
    "***\n",
    "ノートブックを完了したら、コストの発生を停止するため、作成された全てのリソースが削除されたことを確認してください。\n",
    "***"
   ]
  },
  {
   "cell_type": "code",
   "execution_count": 12,
   "id": "63cb143b",
   "metadata": {
    "tags": []
   },
   "outputs": [
    {
     "data": {
      "text/html": [
       "<pre style=\"white-space:pre;overflow-x:auto;line-height:normal;font-family:Menlo,'DejaVu Sans Mono',consolas,'Courier New',monospace\"><span style=\"color: #7fbfbf; text-decoration-color: #7fbfbf\">[02/05/25 16:51:53] </span><span style=\"color: #0069ff; text-decoration-color: #0069ff; font-weight: bold\">INFO    </span> Deleting model with name:                                              <a href=\"file:///opt/conda/lib/python3.11/site-packages/sagemaker/session.py\" target=\"_blank\"><span style=\"color: #7f7f7f; text-decoration-color: #7f7f7f\">session.py</span></a><span style=\"color: #7f7f7f; text-decoration-color: #7f7f7f\">:</span><a href=\"file:///opt/conda/lib/python3.11/site-packages/sagemaker/session.py#5226\" target=\"_blank\"><span style=\"color: #7f7f7f; text-decoration-color: #7f7f7f\">5226</span></a>\n",
       "<span style=\"color: #7fbfbf; text-decoration-color: #7fbfbf\">                    </span>         stable-diffusion-x4-upscaler-fp16-<span style=\"color: #008080; text-decoration-color: #008080; font-weight: bold\">2025</span>-02-05-14-16-06-936              <span style=\"color: #7f7f7f; text-decoration-color: #7f7f7f\">               </span>\n",
       "</pre>\n"
      ],
      "text/plain": [
       "\u001b[2;36m[02/05/25 16:51:53]\u001b[0m\u001b[2;36m \u001b[0m\u001b[1;38;2;0;105;255mINFO    \u001b[0m Deleting model with name:                                              \u001b]8;id=476319;file:///opt/conda/lib/python3.11/site-packages/sagemaker/session.py\u001b\\\u001b[2msession.py\u001b[0m\u001b]8;;\u001b\\\u001b[2m:\u001b[0m\u001b]8;id=519928;file:///opt/conda/lib/python3.11/site-packages/sagemaker/session.py#5226\u001b\\\u001b[2m5226\u001b[0m\u001b]8;;\u001b\\\n",
       "\u001b[2;36m                    \u001b[0m         stable-diffusion-x4-upscaler-fp16-\u001b[1;36m2025\u001b[0m-02-05-14-16-06-936              \u001b[2m               \u001b[0m\n"
      ]
     },
     "metadata": {},
     "output_type": "display_data"
    },
    {
     "data": {
      "text/html": [
       "<pre style=\"white-space:pre;overflow-x:auto;line-height:normal;font-family:Menlo,'DejaVu Sans Mono',consolas,'Courier New',monospace\"><span style=\"color: #7fbfbf; text-decoration-color: #7fbfbf\">                    </span><span style=\"color: #0069ff; text-decoration-color: #0069ff; font-weight: bold\">INFO    </span> Deleting endpoint configuration with name:                             <a href=\"file:///opt/conda/lib/python3.11/site-packages/sagemaker/session.py\" target=\"_blank\"><span style=\"color: #7f7f7f; text-decoration-color: #7f7f7f\">session.py</span></a><span style=\"color: #7f7f7f; text-decoration-color: #7f7f7f\">:</span><a href=\"file:///opt/conda/lib/python3.11/site-packages/sagemaker/session.py#4865\" target=\"_blank\"><span style=\"color: #7f7f7f; text-decoration-color: #7f7f7f\">4865</span></a>\n",
       "<span style=\"color: #7fbfbf; text-decoration-color: #7fbfbf\">                    </span>         medical-example-model-upscaling-stabili-<span style=\"color: #008080; text-decoration-color: #008080; font-weight: bold\">2025</span>-02-05-14-16-06-919        <span style=\"color: #7f7f7f; text-decoration-color: #7f7f7f\">               </span>\n",
       "</pre>\n"
      ],
      "text/plain": [
       "\u001b[2;36m                   \u001b[0m\u001b[2;36m \u001b[0m\u001b[1;38;2;0;105;255mINFO    \u001b[0m Deleting endpoint configuration with name:                             \u001b]8;id=41797;file:///opt/conda/lib/python3.11/site-packages/sagemaker/session.py\u001b\\\u001b[2msession.py\u001b[0m\u001b]8;;\u001b\\\u001b[2m:\u001b[0m\u001b]8;id=760925;file:///opt/conda/lib/python3.11/site-packages/sagemaker/session.py#4865\u001b\\\u001b[2m4865\u001b[0m\u001b]8;;\u001b\\\n",
       "\u001b[2;36m                    \u001b[0m         medical-example-model-upscaling-stabili-\u001b[1;36m2025\u001b[0m-02-05-14-16-06-919        \u001b[2m               \u001b[0m\n"
      ]
     },
     "metadata": {},
     "output_type": "display_data"
    },
    {
     "data": {
      "text/html": [
       "<pre style=\"white-space:pre;overflow-x:auto;line-height:normal;font-family:Menlo,'DejaVu Sans Mono',consolas,'Courier New',monospace\"><span style=\"color: #7fbfbf; text-decoration-color: #7fbfbf\">                    </span><span style=\"color: #0069ff; text-decoration-color: #0069ff; font-weight: bold\">INFO    </span> Deleting endpoint with name:                                           <a href=\"file:///opt/conda/lib/python3.11/site-packages/sagemaker/session.py\" target=\"_blank\"><span style=\"color: #7f7f7f; text-decoration-color: #7f7f7f\">session.py</span></a><span style=\"color: #7f7f7f; text-decoration-color: #7f7f7f\">:</span><a href=\"file:///opt/conda/lib/python3.11/site-packages/sagemaker/session.py#4855\" target=\"_blank\"><span style=\"color: #7f7f7f; text-decoration-color: #7f7f7f\">4855</span></a>\n",
       "<span style=\"color: #7fbfbf; text-decoration-color: #7fbfbf\">                    </span>         medical-example-model-upscaling-stabili-<span style=\"color: #008080; text-decoration-color: #008080; font-weight: bold\">2025</span>-02-05-14-16-06-919        <span style=\"color: #7f7f7f; text-decoration-color: #7f7f7f\">               </span>\n",
       "</pre>\n"
      ],
      "text/plain": [
       "\u001b[2;36m                   \u001b[0m\u001b[2;36m \u001b[0m\u001b[1;38;2;0;105;255mINFO    \u001b[0m Deleting endpoint with name:                                           \u001b]8;id=779374;file:///opt/conda/lib/python3.11/site-packages/sagemaker/session.py\u001b\\\u001b[2msession.py\u001b[0m\u001b]8;;\u001b\\\u001b[2m:\u001b[0m\u001b]8;id=731278;file:///opt/conda/lib/python3.11/site-packages/sagemaker/session.py#4855\u001b\\\u001b[2m4855\u001b[0m\u001b]8;;\u001b\\\n",
       "\u001b[2;36m                    \u001b[0m         medical-example-model-upscaling-stabili-\u001b[1;36m2025\u001b[0m-02-05-14-16-06-919        \u001b[2m               \u001b[0m\n"
      ]
     },
     "metadata": {},
     "output_type": "display_data"
    }
   ],
   "source": [
    "# SageMaker endpoint の削除\n",
    "model_predictor.delete_model()\n",
    "model_predictor.delete_endpoint()"
   ]
  },
  {
   "cell_type": "code",
   "execution_count": null,
   "id": "08d74cb8-9859-4cd6-9e7d-23d4e1b2a081",
   "metadata": {},
   "outputs": [],
   "source": []
  }
 ],
 "metadata": {
  "availableInstances": [
   {
    "_defaultOrder": 0,
    "_isFastLaunch": true,
    "category": "General purpose",
    "gpuNum": 0,
    "hideHardwareSpecs": false,
    "memoryGiB": 4,
    "name": "ml.t3.medium",
    "vcpuNum": 2
   },
   {
    "_defaultOrder": 1,
    "_isFastLaunch": false,
    "category": "General purpose",
    "gpuNum": 0,
    "hideHardwareSpecs": false,
    "memoryGiB": 8,
    "name": "ml.t3.large",
    "vcpuNum": 2
   },
   {
    "_defaultOrder": 2,
    "_isFastLaunch": false,
    "category": "General purpose",
    "gpuNum": 0,
    "hideHardwareSpecs": false,
    "memoryGiB": 16,
    "name": "ml.t3.xlarge",
    "vcpuNum": 4
   },
   {
    "_defaultOrder": 3,
    "_isFastLaunch": false,
    "category": "General purpose",
    "gpuNum": 0,
    "hideHardwareSpecs": false,
    "memoryGiB": 32,
    "name": "ml.t3.2xlarge",
    "vcpuNum": 8
   },
   {
    "_defaultOrder": 4,
    "_isFastLaunch": true,
    "category": "General purpose",
    "gpuNum": 0,
    "hideHardwareSpecs": false,
    "memoryGiB": 8,
    "name": "ml.m5.large",
    "vcpuNum": 2
   },
   {
    "_defaultOrder": 5,
    "_isFastLaunch": false,
    "category": "General purpose",
    "gpuNum": 0,
    "hideHardwareSpecs": false,
    "memoryGiB": 16,
    "name": "ml.m5.xlarge",
    "vcpuNum": 4
   },
   {
    "_defaultOrder": 6,
    "_isFastLaunch": false,
    "category": "General purpose",
    "gpuNum": 0,
    "hideHardwareSpecs": false,
    "memoryGiB": 32,
    "name": "ml.m5.2xlarge",
    "vcpuNum": 8
   },
   {
    "_defaultOrder": 7,
    "_isFastLaunch": false,
    "category": "General purpose",
    "gpuNum": 0,
    "hideHardwareSpecs": false,
    "memoryGiB": 64,
    "name": "ml.m5.4xlarge",
    "vcpuNum": 16
   },
   {
    "_defaultOrder": 8,
    "_isFastLaunch": false,
    "category": "General purpose",
    "gpuNum": 0,
    "hideHardwareSpecs": false,
    "memoryGiB": 128,
    "name": "ml.m5.8xlarge",
    "vcpuNum": 32
   },
   {
    "_defaultOrder": 9,
    "_isFastLaunch": false,
    "category": "General purpose",
    "gpuNum": 0,
    "hideHardwareSpecs": false,
    "memoryGiB": 192,
    "name": "ml.m5.12xlarge",
    "vcpuNum": 48
   },
   {
    "_defaultOrder": 10,
    "_isFastLaunch": false,
    "category": "General purpose",
    "gpuNum": 0,
    "hideHardwareSpecs": false,
    "memoryGiB": 256,
    "name": "ml.m5.16xlarge",
    "vcpuNum": 64
   },
   {
    "_defaultOrder": 11,
    "_isFastLaunch": false,
    "category": "General purpose",
    "gpuNum": 0,
    "hideHardwareSpecs": false,
    "memoryGiB": 384,
    "name": "ml.m5.24xlarge",
    "vcpuNum": 96
   },
   {
    "_defaultOrder": 12,
    "_isFastLaunch": false,
    "category": "General purpose",
    "gpuNum": 0,
    "hideHardwareSpecs": false,
    "memoryGiB": 8,
    "name": "ml.m5d.large",
    "vcpuNum": 2
   },
   {
    "_defaultOrder": 13,
    "_isFastLaunch": false,
    "category": "General purpose",
    "gpuNum": 0,
    "hideHardwareSpecs": false,
    "memoryGiB": 16,
    "name": "ml.m5d.xlarge",
    "vcpuNum": 4
   },
   {
    "_defaultOrder": 14,
    "_isFastLaunch": false,
    "category": "General purpose",
    "gpuNum": 0,
    "hideHardwareSpecs": false,
    "memoryGiB": 32,
    "name": "ml.m5d.2xlarge",
    "vcpuNum": 8
   },
   {
    "_defaultOrder": 15,
    "_isFastLaunch": false,
    "category": "General purpose",
    "gpuNum": 0,
    "hideHardwareSpecs": false,
    "memoryGiB": 64,
    "name": "ml.m5d.4xlarge",
    "vcpuNum": 16
   },
   {
    "_defaultOrder": 16,
    "_isFastLaunch": false,
    "category": "General purpose",
    "gpuNum": 0,
    "hideHardwareSpecs": false,
    "memoryGiB": 128,
    "name": "ml.m5d.8xlarge",
    "vcpuNum": 32
   },
   {
    "_defaultOrder": 17,
    "_isFastLaunch": false,
    "category": "General purpose",
    "gpuNum": 0,
    "hideHardwareSpecs": false,
    "memoryGiB": 192,
    "name": "ml.m5d.12xlarge",
    "vcpuNum": 48
   },
   {
    "_defaultOrder": 18,
    "_isFastLaunch": false,
    "category": "General purpose",
    "gpuNum": 0,
    "hideHardwareSpecs": false,
    "memoryGiB": 256,
    "name": "ml.m5d.16xlarge",
    "vcpuNum": 64
   },
   {
    "_defaultOrder": 19,
    "_isFastLaunch": false,
    "category": "General purpose",
    "gpuNum": 0,
    "hideHardwareSpecs": false,
    "memoryGiB": 384,
    "name": "ml.m5d.24xlarge",
    "vcpuNum": 96
   },
   {
    "_defaultOrder": 20,
    "_isFastLaunch": false,
    "category": "General purpose",
    "gpuNum": 0,
    "hideHardwareSpecs": true,
    "memoryGiB": 0,
    "name": "ml.geospatial.interactive",
    "supportedImageNames": [
     "sagemaker-geospatial-v1-0"
    ],
    "vcpuNum": 0
   },
   {
    "_defaultOrder": 21,
    "_isFastLaunch": true,
    "category": "Compute optimized",
    "gpuNum": 0,
    "hideHardwareSpecs": false,
    "memoryGiB": 4,
    "name": "ml.c5.large",
    "vcpuNum": 2
   },
   {
    "_defaultOrder": 22,
    "_isFastLaunch": false,
    "category": "Compute optimized",
    "gpuNum": 0,
    "hideHardwareSpecs": false,
    "memoryGiB": 8,
    "name": "ml.c5.xlarge",
    "vcpuNum": 4
   },
   {
    "_defaultOrder": 23,
    "_isFastLaunch": false,
    "category": "Compute optimized",
    "gpuNum": 0,
    "hideHardwareSpecs": false,
    "memoryGiB": 16,
    "name": "ml.c5.2xlarge",
    "vcpuNum": 8
   },
   {
    "_defaultOrder": 24,
    "_isFastLaunch": false,
    "category": "Compute optimized",
    "gpuNum": 0,
    "hideHardwareSpecs": false,
    "memoryGiB": 32,
    "name": "ml.c5.4xlarge",
    "vcpuNum": 16
   },
   {
    "_defaultOrder": 25,
    "_isFastLaunch": false,
    "category": "Compute optimized",
    "gpuNum": 0,
    "hideHardwareSpecs": false,
    "memoryGiB": 72,
    "name": "ml.c5.9xlarge",
    "vcpuNum": 36
   },
   {
    "_defaultOrder": 26,
    "_isFastLaunch": false,
    "category": "Compute optimized",
    "gpuNum": 0,
    "hideHardwareSpecs": false,
    "memoryGiB": 96,
    "name": "ml.c5.12xlarge",
    "vcpuNum": 48
   },
   {
    "_defaultOrder": 27,
    "_isFastLaunch": false,
    "category": "Compute optimized",
    "gpuNum": 0,
    "hideHardwareSpecs": false,
    "memoryGiB": 144,
    "name": "ml.c5.18xlarge",
    "vcpuNum": 72
   },
   {
    "_defaultOrder": 28,
    "_isFastLaunch": false,
    "category": "Compute optimized",
    "gpuNum": 0,
    "hideHardwareSpecs": false,
    "memoryGiB": 192,
    "name": "ml.c5.24xlarge",
    "vcpuNum": 96
   },
   {
    "_defaultOrder": 29,
    "_isFastLaunch": true,
    "category": "Accelerated computing",
    "gpuNum": 1,
    "hideHardwareSpecs": false,
    "memoryGiB": 16,
    "name": "ml.g4dn.xlarge",
    "vcpuNum": 4
   },
   {
    "_defaultOrder": 30,
    "_isFastLaunch": false,
    "category": "Accelerated computing",
    "gpuNum": 1,
    "hideHardwareSpecs": false,
    "memoryGiB": 32,
    "name": "ml.g4dn.2xlarge",
    "vcpuNum": 8
   },
   {
    "_defaultOrder": 31,
    "_isFastLaunch": false,
    "category": "Accelerated computing",
    "gpuNum": 1,
    "hideHardwareSpecs": false,
    "memoryGiB": 64,
    "name": "ml.g4dn.4xlarge",
    "vcpuNum": 16
   },
   {
    "_defaultOrder": 32,
    "_isFastLaunch": false,
    "category": "Accelerated computing",
    "gpuNum": 1,
    "hideHardwareSpecs": false,
    "memoryGiB": 128,
    "name": "ml.g4dn.8xlarge",
    "vcpuNum": 32
   },
   {
    "_defaultOrder": 33,
    "_isFastLaunch": false,
    "category": "Accelerated computing",
    "gpuNum": 4,
    "hideHardwareSpecs": false,
    "memoryGiB": 192,
    "name": "ml.g4dn.12xlarge",
    "vcpuNum": 48
   },
   {
    "_defaultOrder": 34,
    "_isFastLaunch": false,
    "category": "Accelerated computing",
    "gpuNum": 1,
    "hideHardwareSpecs": false,
    "memoryGiB": 256,
    "name": "ml.g4dn.16xlarge",
    "vcpuNum": 64
   },
   {
    "_defaultOrder": 35,
    "_isFastLaunch": false,
    "category": "Accelerated computing",
    "gpuNum": 1,
    "hideHardwareSpecs": false,
    "memoryGiB": 61,
    "name": "ml.p3.2xlarge",
    "vcpuNum": 8
   },
   {
    "_defaultOrder": 36,
    "_isFastLaunch": false,
    "category": "Accelerated computing",
    "gpuNum": 4,
    "hideHardwareSpecs": false,
    "memoryGiB": 244,
    "name": "ml.p3.8xlarge",
    "vcpuNum": 32
   },
   {
    "_defaultOrder": 37,
    "_isFastLaunch": false,
    "category": "Accelerated computing",
    "gpuNum": 8,
    "hideHardwareSpecs": false,
    "memoryGiB": 488,
    "name": "ml.p3.16xlarge",
    "vcpuNum": 64
   },
   {
    "_defaultOrder": 38,
    "_isFastLaunch": false,
    "category": "Accelerated computing",
    "gpuNum": 8,
    "hideHardwareSpecs": false,
    "memoryGiB": 768,
    "name": "ml.p3dn.24xlarge",
    "vcpuNum": 96
   },
   {
    "_defaultOrder": 39,
    "_isFastLaunch": false,
    "category": "Memory Optimized",
    "gpuNum": 0,
    "hideHardwareSpecs": false,
    "memoryGiB": 16,
    "name": "ml.r5.large",
    "vcpuNum": 2
   },
   {
    "_defaultOrder": 40,
    "_isFastLaunch": false,
    "category": "Memory Optimized",
    "gpuNum": 0,
    "hideHardwareSpecs": false,
    "memoryGiB": 32,
    "name": "ml.r5.xlarge",
    "vcpuNum": 4
   },
   {
    "_defaultOrder": 41,
    "_isFastLaunch": false,
    "category": "Memory Optimized",
    "gpuNum": 0,
    "hideHardwareSpecs": false,
    "memoryGiB": 64,
    "name": "ml.r5.2xlarge",
    "vcpuNum": 8
   },
   {
    "_defaultOrder": 42,
    "_isFastLaunch": false,
    "category": "Memory Optimized",
    "gpuNum": 0,
    "hideHardwareSpecs": false,
    "memoryGiB": 128,
    "name": "ml.r5.4xlarge",
    "vcpuNum": 16
   },
   {
    "_defaultOrder": 43,
    "_isFastLaunch": false,
    "category": "Memory Optimized",
    "gpuNum": 0,
    "hideHardwareSpecs": false,
    "memoryGiB": 256,
    "name": "ml.r5.8xlarge",
    "vcpuNum": 32
   },
   {
    "_defaultOrder": 44,
    "_isFastLaunch": false,
    "category": "Memory Optimized",
    "gpuNum": 0,
    "hideHardwareSpecs": false,
    "memoryGiB": 384,
    "name": "ml.r5.12xlarge",
    "vcpuNum": 48
   },
   {
    "_defaultOrder": 45,
    "_isFastLaunch": false,
    "category": "Memory Optimized",
    "gpuNum": 0,
    "hideHardwareSpecs": false,
    "memoryGiB": 512,
    "name": "ml.r5.16xlarge",
    "vcpuNum": 64
   },
   {
    "_defaultOrder": 46,
    "_isFastLaunch": false,
    "category": "Memory Optimized",
    "gpuNum": 0,
    "hideHardwareSpecs": false,
    "memoryGiB": 768,
    "name": "ml.r5.24xlarge",
    "vcpuNum": 96
   },
   {
    "_defaultOrder": 47,
    "_isFastLaunch": false,
    "category": "Accelerated computing",
    "gpuNum": 1,
    "hideHardwareSpecs": false,
    "memoryGiB": 16,
    "name": "ml.g5.xlarge",
    "vcpuNum": 4
   },
   {
    "_defaultOrder": 48,
    "_isFastLaunch": false,
    "category": "Accelerated computing",
    "gpuNum": 1,
    "hideHardwareSpecs": false,
    "memoryGiB": 32,
    "name": "ml.g5.2xlarge",
    "vcpuNum": 8
   },
   {
    "_defaultOrder": 49,
    "_isFastLaunch": false,
    "category": "Accelerated computing",
    "gpuNum": 1,
    "hideHardwareSpecs": false,
    "memoryGiB": 64,
    "name": "ml.g5.4xlarge",
    "vcpuNum": 16
   },
   {
    "_defaultOrder": 50,
    "_isFastLaunch": false,
    "category": "Accelerated computing",
    "gpuNum": 1,
    "hideHardwareSpecs": false,
    "memoryGiB": 128,
    "name": "ml.g5.8xlarge",
    "vcpuNum": 32
   },
   {
    "_defaultOrder": 51,
    "_isFastLaunch": false,
    "category": "Accelerated computing",
    "gpuNum": 1,
    "hideHardwareSpecs": false,
    "memoryGiB": 256,
    "name": "ml.g5.16xlarge",
    "vcpuNum": 64
   },
   {
    "_defaultOrder": 52,
    "_isFastLaunch": false,
    "category": "Accelerated computing",
    "gpuNum": 4,
    "hideHardwareSpecs": false,
    "memoryGiB": 192,
    "name": "ml.g5.12xlarge",
    "vcpuNum": 48
   },
   {
    "_defaultOrder": 53,
    "_isFastLaunch": false,
    "category": "Accelerated computing",
    "gpuNum": 4,
    "hideHardwareSpecs": false,
    "memoryGiB": 384,
    "name": "ml.g5.24xlarge",
    "vcpuNum": 96
   },
   {
    "_defaultOrder": 54,
    "_isFastLaunch": false,
    "category": "Accelerated computing",
    "gpuNum": 8,
    "hideHardwareSpecs": false,
    "memoryGiB": 768,
    "name": "ml.g5.48xlarge",
    "vcpuNum": 192
   },
   {
    "_defaultOrder": 55,
    "_isFastLaunch": false,
    "category": "Accelerated computing",
    "gpuNum": 8,
    "hideHardwareSpecs": false,
    "memoryGiB": 1152,
    "name": "ml.p4d.24xlarge",
    "vcpuNum": 96
   },
   {
    "_defaultOrder": 56,
    "_isFastLaunch": false,
    "category": "Accelerated computing",
    "gpuNum": 8,
    "hideHardwareSpecs": false,
    "memoryGiB": 1152,
    "name": "ml.p4de.24xlarge",
    "vcpuNum": 96
   }
  ],
  "instance_type": "ml.t3.medium",
  "kernelspec": {
   "display_name": "Python 3 (Data Science)",
   "language": "python",
   "name": "python3__SAGEMAKER_INTERNAL__arn:aws:sagemaker:us-east-1:081325390199:image/datascience-1.0"
  },
  "language_info": {
   "codemirror_mode": {
    "name": "ipython",
    "version": 3
   },
   "file_extension": ".py",
   "mimetype": "text/x-python",
   "name": "python",
   "nbconvert_exporter": "python",
   "pygments_lexer": "ipython3",
   "version": "3.7.10"
  },
  "pycharm": {
   "stem_cell": {
    "cell_type": "raw",
    "metadata": {
     "collapsed": false
    },
    "source": []
   }
  }
 },
 "nbformat": 4,
 "nbformat_minor": 5
}
